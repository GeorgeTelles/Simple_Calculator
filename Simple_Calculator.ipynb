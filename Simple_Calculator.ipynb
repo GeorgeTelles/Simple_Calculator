{
  "nbformat": 4,
  "nbformat_minor": 0,
  "metadata": {
    "colab": {
      "provenance": [],
      "authorship_tag": "ABX9TyN/21Gd1P8V3sv5ccfJ7moD",
      "include_colab_link": true
    },
    "kernelspec": {
      "name": "python3",
      "display_name": "Python 3"
    },
    "language_info": {
      "name": "python"
    }
  },
  "cells": [
    {
      "cell_type": "markdown",
      "metadata": {
        "id": "view-in-github",
        "colab_type": "text"
      },
      "source": [
        "<a href=\"https://colab.research.google.com/github/GeorgeTelles/Simple_Calculator/blob/main/Simple_Calculator.ipynb\" target=\"_parent\"><img src=\"https://colab.research.google.com/assets/colab-badge.svg\" alt=\"Open In Colab\"/></a>"
      ]
    },
    {
      "cell_type": "markdown",
      "source": [
        "<div>\n",
        "  <img src=\"https://raw.githubusercontent.com/GeorgeTelles/georgetelles/f69531ec6b293b5148563588a764c010015d315e/logo_clara.png\" alt=\"logo clara\" width=\"300\" style=\"display: inline-block; vertical-align: top; margin-right: 10px;\">\n",
        "  <img src=\"https://raw.githubusercontent.com/GeorgeTelles/georgetelles/f69531ec6b293b5148563588a764c010015d315e/logo_dark.png\" alt=\"logo dark\" width=\"300\" style=\"display: inline-block; vertical-align: top;\">\n",
        "</div>"
      ],
      "metadata": {
        "id": "16n2ysbYYUnD"
      }
    },
    {
      "cell_type": "markdown",
      "source": [
        "# Simple Calculator\n",
        "\n",
        "This project presents two distinct approaches for implementing a simple calculator in Python, highlighting code efficiency, security, and maintainability.\n",
        "\n",
        "## Implementation with Conditional Statements (`if` and `elif`)\n",
        "\n",
        "The first version of the calculator uses conditional structures to perform basic mathematical operations.\n",
        "\n",
        "### Characteristics of this approach:\n",
        "\n",
        "- **Manual Detailing**: Each mathematical operation (addition, subtraction, multiplication, division) is handled by separate blocks of code. This results in more code repetition and requires specific logic for each operation.\n",
        "  \n",
        "- **Maintenance and Extensibility**: Adding new operations requires inserting new `elif` blocks and managing specific error messages and results for each operation. As the number of operations grows, this approach can become impractical.\n",
        "  \n",
        "- **Error Handling**: Error handling is limited and needs to be explicitly implemented for each operation, especially to prevent issues like division by zero.\n",
        "\n",
        "## Implementation with `eval`\n",
        "\n",
        "The second version of the calculator uses the `eval` function to evaluate mathematical expressions provided by the user.\n",
        "\n",
        "### Characteristics of this approach:\n",
        "\n",
        "- **Compact Code**: Uses a single line of code to perform the mathematical operation, significantly reducing the amount of code needed and eliminating repetition associated with different mathematical operations.\n",
        "\n",
        "- **Ease of Use**: Allows the user to input complete mathematical expressions directly, making the code more flexible and intuitive. This simplifies interaction with the calculator.\n",
        "\n",
        "- **Security and Risk**: While `eval` provides an elegant solution, it can pose security risks as it executes any provided Python code. This can lead to vulnerabilities if user input is not trusted. The use of `eval` should be carefully considered and ideally avoided in production environments.\n",
        "\n",
        "- **Error Handling**: The code uses a `try-except` block to handle errors more generally, capturing `SyntaxError`, `NameError`, and `ZeroDivisionError`. This enhances robustness by centrally managing invalid inputs.\n",
        "\n",
        "## Conclusion\n",
        "\n",
        "The `if` and `elif` approach offers more granular control and security but results in more extensive and less flexible code. The `eval` approach provides a more compact and flexible solution but presents security risks that need to be managed carefully. The choice between these methods will depend on the specific needs of the project and the execution environment.\n"
      ],
      "metadata": {
        "id": "cYZVIQf_TYpy"
      }
    },
    {
      "cell_type": "markdown",
      "source": [
        "Calculadora com Estrutura Condicional (`if` e `elif`)"
      ],
      "metadata": {
        "id": "rnVSTgw0TgAQ"
      }
    },
    {
      "cell_type": "code",
      "execution_count": null,
      "metadata": {
        "id": "ua6yT9dlSE62"
      },
      "outputs": [],
      "source": [
        "while True:\n",
        "    operacao = input(\"Qual operação deseja realizar? \\n+ Soma\\n- Subtração\\n/ Divisão\\n* Multiplicação\\n\")\n",
        "\n",
        "    if operacao == \"+\":\n",
        "        numero1 = float(input(\"Insira o numero 1: \"))\n",
        "        numero2 = float(input(\"Insira o numero 2: \"))\n",
        "        resultado_soma = numero1 + numero2\n",
        "        print(f\"O resultado da soma é {resultado_soma}\")\n",
        "    elif operacao == \"-\":\n",
        "        numero1 = float(input(\"Insira o numero 1: \"))\n",
        "        numero2 = float(input(\"Insira o numero 2: \"))\n",
        "        resultado_subtraçao = numero1 - numero2\n",
        "        print(f\"O resultado da subtração é {resultado_subtraçao}\")\n",
        "    elif operacao == \"/\":\n",
        "        numero1 = float(input(\"Insira o numero 1: \"))\n",
        "        numero2 = float(input(\"Insira o numero 2: \"))\n",
        "        resultado_divisao = numero1 / numero2\n",
        "        print(f\"O resultado da soma é {resultado_divisao}\")\n",
        "    elif operacao == \"*\":\n",
        "        numero1 = float(input(\"Insira o numero 1: \"))\n",
        "        numero2 = float(input(\"Insira o numero 2: \"))\n",
        "        resultado_multiplicacao = numero1 * numero2\n",
        "        print(f\"O resultado da soma é {resultado_multiplicacao}\")\n",
        "\n",
        "    x = input(\"Deseja fazer outra operação?\\nSim\\nNão\\n\")\n",
        "    if x == \"Sim\":\n",
        "        continue\n",
        "    else:\n",
        "        break"
      ]
    },
    {
      "cell_type": "markdown",
      "source": [
        "#Calculadora usando o metodo eval"
      ],
      "metadata": {
        "id": "B7rtCdphTuV4"
      }
    },
    {
      "cell_type": "code",
      "source": [
        "while True:\n",
        "    operacao = input(\"Digite a operação desejada (ex: 3 + 4): \")\n",
        "\n",
        "    try:\n",
        "        resultado = eval(operacao)\n",
        "        print(f\"O resultado é {resultado}\")\n",
        "    except (SyntaxError, NameError, ZeroDivisionError) as e:\n",
        "        print(f\"Erro: {e}\")\n",
        "    continuar = input(\"Deseja fazer outra operação? (Sim/Não): \").strip().lower()\n",
        "    if continuar != \"sim\":\n",
        "        break\n"
      ],
      "metadata": {
        "id": "u0ceVRJnSmOp"
      },
      "execution_count": null,
      "outputs": []
    }
  ]
}